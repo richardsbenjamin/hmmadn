{
 "cells": [
  {
   "cell_type": "code",
   "execution_count": 1,
   "metadata": {},
   "outputs": [],
   "source": [
    "from math import exp, pi\n",
    "\n",
    "import matplotlib.pyplot as plt\n",
    "from numpy import concat\n",
    "from numpy import array, linspace, matmul, ndarray\n",
    "from numpy.linalg import inv, det\n",
    "from numpy.random import Generator, PCG64\n",
    "\n",
    "from hmmadn import HMMGen, SemiGen, SemiViterbi, Viterbi\n",
    "from hmmadn.utils import DurationProbVec, ObservationLaw, ProbVec, get_duration_error, get_error"
   ]
  },
  {
   "cell_type": "markdown",
   "metadata": {},
   "source": [
    "## Modèles de Markov caché (HMM)"
   ]
  },
  {
   "cell_type": "markdown",
   "metadata": {},
   "source": [
    "Nous définissons un modèle de markov caché avec les éléments suivants :\n",
    "\n",
    "1. Le temps est discrèt.\n",
    "2. A chaque temps $t$, le système est dans un état caché.\n",
    "3. $S$ est l'ensemble d'états cachés, $S=\\{0, \\cdots, K \\}$. Pour décrire l'état au temps $t$, nous écrivons $S_t=s$ où $s\\in S$. $N$ est la cardinalité de $S$. \n",
    "4. Nous écrivons la séquence d'états jusqu'au temps $t$ comme $S(t)$.\n",
    "5. A chaque temps $t+1$, l'état actuel transitionne à un nouvel état selon les probabilités de transition, tout en respectant la propriété de Markov : \n",
    "\n",
    "$$P(S_{t+1}=s | S_0=q,\\cdots,S_{t}=r)=P(S_{t+1}=s|S_{t}=r)$$\n",
    "\n",
    "\n",
    "6. La matrice de transition des états cachés est définie par \n",
    "$A=\\{a_{ij}\\}$\n",
    "où\n",
    "$a_{ij}=P(S_t=s|S_{t-1}=d)$ avec $s,d\\in S$\n",
    "\n",
    "7. A chaque temps $t$, l'état actuel génère une observation selon les probabilités d'observation. Pour décrire l'observation au temps $t$, nous écrivons $O_t=o$ où $o\\in O$ et $O$ est l'ensemble des valeurs possibles des observations.\n",
    "\n",
    "8. La séquence des observations jusqu'au temps $t$ est écrite comme $O(t)$.\n",
    "\n",
    "9. Les probabilités d'observation sont définies selon les cas discrét ou continu :\n",
    "    * **discrèt :** $O$ est un ensemble discrète et fini. La cardinalité est donné par $M$. Nous définissions une matrice de probabilité de taille $N\\times M$ par $B=\\{b_s(o)\\}$ où $b_s(o)=P(O_t=o|S=s)$\n",
    "    * **continu :** $O$ est normalement l'ensemble de nombres réelles, $R$. Pour chaque état, nous choisissons une densité de probabilité valide, $f_s(o)$, et écrivons \n",
    "    $P(O_t=o|S=s)=f_s(o)$\n",
    "\n",
    "4. Nous initialisons le premier état du modèle en définissant $\\mu_s=P(S_1=s)$ pour chaque $s\\in S$. $\\mu$ définit la loi d'initialisation telle que $\\sum_{s\\in S}\\mu_s=1$, et selon laquelle nous pouvons tirer un état initial."
   ]
  },
  {
   "cell_type": "markdown",
   "metadata": {},
   "source": [
    "### Génération de données"
   ]
  },
  {
   "cell_type": "markdown",
   "metadata": {},
   "source": [
    "Nous pouvons générer une séquence d'états selon les étapes suivantes :\n",
    "\n",
    "1. Tirer un état initial selon la loi $\\mu$ et définir $S_t=s$, où $t=1$ et $s\\in S$.\n",
    "2. Générer une observation selon la probabilité d'observation et l'état actuel. Définir $O_t=o$ où $o\\in O$ est l'observation générée.\n",
    "3. Tirer le prochain état selon la matrice de transition. Définir $S_{t+1}=r$, où $r\\in S$ est l'état tiré.\n",
    "4. Répéter les étapes 2 et 3 jusqu'à $t=T$."
   ]
  },
  {
   "cell_type": "markdown",
   "metadata": {},
   "source": [
    "### L'Algorithme de Viterbi\n",
    "\n",
    "L'Algorithme de Viterbi nous permet d'estimer la séquence d'états qui a généré les observations. Pour ce faire, nous suppons que les paramètres du modèle ainsi que la séquence d'observations sont connus.\n",
    "\n",
    "Tout d'abord, nous définissons quelques termes utilisés dans l'algorithme.\n",
    "\n",
    "$\\delta_t(s)$ représente la probabilité maximale d'avoir parcouru la séquence d'états $S(t)$, observé la séquence $O(t)$, et atteindre $S_t=s$.\n",
    "$$\\delta_t(s)=\\max_{S(t-1)} P(S(t-1),S_t=s, O(t))$$\n",
    "\n",
    "Une définition itérative peut être montrée :\n",
    "\n",
    "$$\\delta_t(s)=\\max_{r\\in S}[a_{rs}\\delta_{t-1}(r)]b_{s}(O_t)$$\n",
    "\n",
    "Ici, $\\delta_{t-1}(r)$ représente, donné toutes les observations jusqu'au temps $t-1$, la probabilité d'avoir parcouru tous les états précédents et achevé en état $r$ au temps $t$. Ainsi, nous multiplions cette probabilité par $a_{rs}$ pour calculer la probabilité d'atteindre l'état $s$ au temps $t$. Pusique nous cherchons la probabilité maximale, nous prenons l'état $r\\in S$ qui maximise cette valeur. Enfin, nous multiplions par $b_{s}(O_t)$, (ou $f_{s}(O_t)$ dans le cas continu) pour prendre en compte la probabilité d'avoir observé $O_t$ le temps que nous sommes dans l'état $s$.\n",
    "\n",
    "Nous pouvons initialiser les $\\delta_t(s)$ en calculant : \n",
    "\n",
    "$$\\delta_1(s)=\\mu_s b_{s}(O_t)$$\n",
    "\n",
    "Notons qu'au chaque temps $t$, nous calculons $\\delta_{t}(s)$ pour chaque $s\\in S$. Afin de détéminer quel état s'est avéré, nous traversons les deltas en arrière depuis temps $T$ en considérant l'état précédent le plus probable qui nous mène à l'état actuel.\n",
    "\n",
    "Donc, nous définissons : \n",
    "\n",
    "$$\\phi_t(s)=\\argmax_{r\\in S}[a_{rs}\\delta_{t-1}(r)]$$\n",
    "\n",
    "Cela représente l'état le plus probable au temps $t-1$ qui nous a mené à l'état $s$ au temps $t$. Pour chaque temps $t$, nous calculons $\\phi_t(s)$ pour chaque $s\\in S$. Nous utilisons l'état au temps $t+1$ pour déterminer l'état optimal au temps $t$. Pour initialiser la traversée au temps $T$, nous définissons l'état optimal comme\n",
    "\n",
    "$$S^*_T=\\argmax_{s\\in S}\\delta_T(s)$$\n",
    "\n",
    "Algorithime :\n",
    "1. $t=1$, pour $s\\in S$\n",
    "\n",
    "$$\\delta_1(s)=\\mu_s b_s(O_1)$$\n",
    "$$\\phi_1(s)=0$$\n",
    "\n",
    "2. Pour $t=2:T$, pour $s\\in S$\n",
    "    $$\\delta_t(s)=\\max_{r\\in S}[a_{rs}\\delta_{t-1}(r)]b_{s}(O_t)$$\n",
    "    $$\\phi_t(s)=\\argmax_{r\\in S}[a_{rs}\\delta_{t-1}(r)]$$\n",
    "\n",
    "3. Définir\n",
    "$$S^*_T=\\argmax_{s\\in S}\\delta_T(s)$$\n",
    "\n",
    "4. Pour $t=T-1:(-1):1$\n",
    "$$S^*_t=\\argmax_{s\\in S}\\delta_{t+1}(S^*_{t+1})$$\n",
    "\n",
    "\n"
   ]
  },
  {
   "cell_type": "markdown",
   "metadata": {},
   "source": [
    "### HMM avec des observations selon une loi gaussienne"
   ]
  },
  {
   "cell_type": "code",
   "execution_count": 2,
   "metadata": {},
   "outputs": [],
   "source": [
    "def multivariate_normal_pdf(x, mean, cov_matrix):\n",
    "    return (\n",
    "        ((2 * pi) ** (-x.size / 2))\n",
    "        * (det(cov_matrix) ** -0.5)\n",
    "        * exp(\n",
    "            -0.5 * matmul(\n",
    "                (x - mean).T,\n",
    "                matmul(inv(cov_matrix), (x - mean))\n",
    "            )\n",
    "        ))\n",
    "\n",
    "class GaussObsLaw(ObservationLaw):\n",
    "    \"\"\"Cette classe gère la génération des observations selon les états donnés.\"\"\"\n",
    "\n",
    "    def __init__(self, state_parameters: dict) -> None:\n",
    "        self.gen = Generator(PCG64())\n",
    "        self.state_parameters = state_parameters\n",
    "\n",
    "    def gen_obs(self, state: str) -> any:\n",
    "        return self.gen.multivariate_normal(\n",
    "            self.state_parameters[state]['mean'],\n",
    "            self.state_parameters[state]['cov'],\n",
    "        )\n",
    "    \n",
    "    def b_Sj_Ot(self, state: int, obs: ndarray) -> float:\n",
    "        return multivariate_normal_pdf(\n",
    "            obs,\n",
    "            self.state_parameters[state]['mean'],\n",
    "            self.state_parameters[state]['cov'],\n",
    "        )\n",
    "    \n",
    "    def b_Sj_Ot_list(self, state: int, obs: list[ndarray]) -> float:\n",
    "        return array([\n",
    "            self.b_Sj_Ot(state, o) for o in obs\n",
    "        ]).prod()\n",
    "    \n",
    "    def __call__(self, state: any) -> any:\n",
    "        return self.gen_obs(state)\n",
    "\n",
    "\n",
    "def get_state_params(alpha: float = 1.0, beta: float = 1.0) -> dict:\n",
    "    \"\"\"Fonction pour paramétriser la variance de notre modèle.\"\"\"\n",
    "    return {\n",
    "        0: {\n",
    "            'mean': array([2, 1]),\n",
    "            'cov': alpha * array(\n",
    "                [[1, 0],\n",
    "                [0, 1]]\n",
    "            ),\n",
    "        },\n",
    "        1: {\n",
    "            'mean': array([-1, 2]),\n",
    "            'cov': beta * array(\n",
    "                [[0.5, 0],\n",
    "                [0, 0.5]]\n",
    "            ),\n",
    "        }\n",
    "    }\n",
    "\n"
   ]
  },
  {
   "cell_type": "markdown",
   "metadata": {},
   "source": [
    "Dans notre exemple, nous définissons le modèle suivant : \n",
    "\n",
    "1. Il y a deux états : $S=\\{0, 1\\}$\n",
    "2. La matrice de transition est donnée par : \n",
    "$$ A = \\begin{bmatrix} 0.6 & 0.4 \\\\ 0.8 & 0.2 \\\\ \\end{bmatrix} $$\n",
    "3. Le loi d'initialisation est donnée par :\n",
    "$$\\mu = \\{0.5 \\enspace 0.5\\}$$\n",
    "2. $f_s(O_t)$ est une distribution gaussienne, où nous précisons la moyenne et la variance pour chaque état : \n",
    "$$\\text{moyenne d'état 0 : }  \\begin{bmatrix} 2 \\\\ 1 \\end{bmatrix} \\text{ variance d'état 0 : }  \\begin{bmatrix} 1 & 0 \\\\ 0 & 1 \\\\ \\end{bmatrix}$$\n",
    "$$\\text{moyenne d'état 1 : }  \\begin{bmatrix} -1 \\\\ 2 \\end{bmatrix} \\text{ variance d'état 1 : }  \\begin{bmatrix} 0.5 & 0 \\\\ 0 & 0.5 \\\\ \\end{bmatrix}$$"
   ]
  },
  {
   "cell_type": "code",
   "execution_count": 3,
   "metadata": {},
   "outputs": [],
   "source": [
    "T = 1000\n",
    "N = 2\n",
    "\n",
    "states = range(N)\n",
    "trans_mat = array([\n",
    "    [0.6, 0.4],\n",
    "    [0.8, 0.2]\n",
    "])\n",
    "state_params = get_state_params()\n",
    "obs_law = GaussObsLaw(state_params)\n",
    "\n",
    "hmm_gen = HMMGen(\n",
    "    states, trans_mat, obs_law\n",
    ")\n",
    "observations, states_obs = hmm_gen.gen_obs(T, states=True)"
   ]
  },
  {
   "cell_type": "markdown",
   "metadata": {},
   "source": [
    "La sortie de la génération des données est une liste des observations ainsi qu'une liste des états corréspondants. Nous passons la liste des observations à l'algorithme de Viterbi. Nous utilisons les observations pour calculer l'erreur de Viterbi."
   ]
  },
  {
   "cell_type": "code",
   "execution_count": 4,
   "metadata": {},
   "outputs": [
    {
     "name": "stdout",
     "output_type": "stream",
     "text": [
      "Moyenne empirique de l'état 0 [1.93781362 0.98872478]\n",
      "Moyenne théorique de l'état 0 [2 1]\n",
      "Moyenne empirique de l'état 1 [-1.02720261  1.9595129 ]\n",
      "Moyenne théorique de l'état 1 [-1  2]\n"
     ]
    }
   ],
   "source": [
    "# Vérification des moyennes des valeurs générées\n",
    "\n",
    "one_count = 0\n",
    "zero_count = 0\n",
    "one_obs = []\n",
    "zero_obs = []\n",
    "zipped_obs_list = zip(observations, states_obs)\n",
    "for obs in zipped_obs_list:\n",
    "    if obs[-1] == 0:\n",
    "        zero_count += 1\n",
    "        zero_obs.append(obs[0])\n",
    "    else:\n",
    "        one_count += 1\n",
    "        one_obs.append(obs[0])\n",
    "\n",
    "print(\"Moyenne empirique de l'état 0\", sum(zero_obs) / zero_count)\n",
    "print(\"Moyenne théorique de l'état 0\", state_params[0]['mean'])\n",
    "\n",
    "print(\"Moyenne empirique de l'état 1\", sum(one_obs) / one_count)\n",
    "print(\"Moyenne théorique de l'état 1\", state_params[1]['mean'])"
   ]
  },
  {
   "cell_type": "code",
   "execution_count": 5,
   "metadata": {},
   "outputs": [],
   "source": [
    "viterbi = Viterbi(\n",
    "    states=states,\n",
    "    obs_list=observations,\n",
    "    trans_mat=trans_mat,\n",
    "    mus=hmm_gen.mus,\n",
    "    b_Sj_Ot_function=obs_law.b_Sj_Ot,\n",
    ")\n",
    "\n",
    "viterbi_states = viterbi.run_viterbi()"
   ]
  },
  {
   "cell_type": "markdown",
   "metadata": {},
   "source": [
    "La sortie de l'algorithme de Viterbi est une liste des états optimaux. Nous passons celle-ci, avec les états observés, afin de calculer l'erreur."
   ]
  },
  {
   "cell_type": "code",
   "execution_count": 6,
   "metadata": {},
   "outputs": [
    {
     "name": "stdout",
     "output_type": "stream",
     "text": [
      "L'erreur de Viterbi est : 3.2%\n"
     ]
    }
   ],
   "source": [
    "error = get_error(states_obs, viterbi_states, T)\n",
    "\n",
    "print(f\"L'erreur de Viterbi est : {round(error * 100, 2)}%\")"
   ]
  },
  {
   "cell_type": "code",
   "execution_count": 7,
   "metadata": {},
   "outputs": [
    {
     "ename": "",
     "evalue": "",
     "output_type": "error",
     "traceback": [
      "\u001b[1;31mThe Kernel crashed while executing code in the current cell or a previous cell. \n",
      "\u001b[1;31mPlease review the code in the cell(s) to identify a possible cause of the failure. \n",
      "\u001b[1;31mClick <a href='https://aka.ms/vscodeJupyterKernelCrash'>here</a> for more info. \n",
      "\u001b[1;31mView Jupyter <a href='command:jupyter.viewOutput'>log</a> for further details."
     ]
    }
   ],
   "source": [
    "def run_hmm_gen_and_viterbi(state_params) -> float:\n",
    "    obs_law = GaussObsLaw(state_params)\n",
    "    hmm_gen = HMMGen(\n",
    "        states, trans_mat, obs_law\n",
    "    )\n",
    "    observations, states_obs = hmm_gen.gen_obs(T, states=True)\n",
    "\n",
    "    viterbi = Viterbi(\n",
    "        states=states,\n",
    "        obs_list=observations,\n",
    "        trans_mat=trans_mat,\n",
    "        mus=hmm_gen.mus,\n",
    "        b_Sj_Ot_function=obs_law.b_Sj_Ot,\n",
    "    )\n",
    "\n",
    "    viterbi_states = viterbi.run_viterbi()\n",
    "    return get_error(states_obs, viterbi_states, T)\n",
    "\n",
    "runs = 10\n",
    "cov_steps = linspace(0.05, 1, 20)\n",
    "\n",
    "alpha_errors = []\n",
    "for step in cov_steps:\n",
    "    runs_avg = []\n",
    "    for _ in range(runs):\n",
    "        runs_avg.append(run_hmm_gen_and_viterbi(get_state_params(step, 1)))\n",
    "    alpha_errors.append(\n",
    "        array(runs_avg).mean()\n",
    "    )\n",
    "\n",
    "beta_errors = []\n",
    "for step in cov_steps:\n",
    "    runs_avg = []\n",
    "    for _ in range(runs):\n",
    "        runs_avg.append(run_hmm_gen_and_viterbi(get_state_params(1, step)))\n",
    "    beta_errors.append(\n",
    "        array(runs_avg).mean()\n",
    "    )\n",
    "\n",
    "\n"
   ]
  },
  {
   "cell_type": "markdown",
   "metadata": {},
   "source": [
    "Ici, nous éxecutons la génération des données et l'algorithme de Viterbi plusieurs fois en changeant la variance de chaque état. \n",
    "\n",
    "Dans le cas d'alpha, nous modifions la variance de l'état 0 en multipliant la matrice de variance par un scalaire. Nous choisissons les valeurs de 0,05 jusqu'au 1 en pas de 0,05, ce qui est effectivement un pourcentage de la variance d'origine. Nous ne changeons pas la variance de l'état 1. \n",
    "\n",
    "Dans le cas de beta, nous utilisons la même approche, mais en échangeant les rôles d'alpha et de beta. "
   ]
  },
  {
   "cell_type": "code",
   "execution_count": 8,
   "metadata": {},
   "outputs": [
    {
     "data": {
      "text/plain": [
       "<matplotlib.legend.Legend at 0x274e038e110>"
      ]
     },
     "execution_count": 8,
     "metadata": {},
     "output_type": "execute_result"
    },
    {
     "data": {
      "image/png": "[encoded data removed]",
      "text/plain": [
       "<Figure size 640x480 with 1 Axes>"
      ]
     },
     "metadata": {},
     "output_type": "display_data"
    }
   ],
   "source": [
    "plt.plot(cov_steps, alpha_errors, label='alpha')\n",
    "plt.plot(cov_steps, beta_errors, label='beta')\n",
    "plt.ylabel(\"Pourcentage d'erreur\")\n",
    "plt.xlabel(\"Pourcentage de variance\")\n",
    "plt.legend()"
   ]
  },
  {
   "cell_type": "markdown",
   "metadata": {},
   "source": [
    "### HMM avec des observations selon une loi discrète"
   ]
  },
  {
   "cell_type": "code",
   "execution_count": 7,
   "metadata": {},
   "outputs": [],
   "source": [
    "class DiscreteObsLaw(ObservationLaw):\n",
    "\n",
    "    def __init__(self, obs_prob_mat: ndarray) -> None:\n",
    "        self.obs_prob_mat = obs_prob_mat\n",
    "        self._set_prob_vectors()\n",
    "\n",
    "    def _set_prob_vectors(self) -> None:\n",
    "        self.prob_vectors = {\n",
    "            i: ProbVec(self.obs_prob_mat[i], range(self.obs_prob_mat.shape[1]))\n",
    "            for i in range(self.obs_prob_mat.shape[0])\n",
    "        }\n",
    "\n",
    "    def gen_obs(self, state: int) -> int:\n",
    "        return self.prob_vectors[state].gen_value()\n",
    "    \n",
    "    def b_Sj_Ot(self, state: int, observation: int) -> float:\n",
    "        return self.obs_prob_mat[state][observation]\n",
    "    \n",
    "    def b_Sj_Ot_list(self, state: int, obs: list[int]) -> float:\n",
    "        return array([\n",
    "            self.b_Sj_Ot(state, o) for o in obs\n",
    "        ]).prod()\n",
    "\n"
   ]
  },
  {
   "cell_type": "markdown",
   "metadata": {},
   "source": [
    "Dans notre exemple discrèt, nous utilisons presque tous les mêmes paramètres, sauf les probabilités d'observation. Pour cela, nous précisons l'ensemble d'observations possibles et une matrice de probabilités : \n",
    "$$O = \\{0, 1\\}$$\n",
    "$$B=\\begin{bmatrix} 0.9 & 0.1 \\\\ 0.1 & 0.9 \\\\ \\end{bmatrix} $$\n",
    "\n",
    "Ensuite, nous pouvons calculer les valeurs moyennes de chaque état : \n",
    "\n",
    "$$\\begin{align*}\n",
    "E_{S=0}[O]&=\\sum_{o\\in O}o b_0(o)\\\\\n",
    "&=0\\times 0.9+1\\times 0,1\\\\\n",
    "&=0,1\\\\\n",
    "\\end{align*}$$\n",
    "\n",
    "$$\\begin{align*}\n",
    "E_{S=1}[O]&=\\sum_{o\\in O}o b_1(o)\\\\\n",
    "&=0\\times 0.1+1\\times 0.9\\\\\n",
    "&=0.9\\\\\n",
    "\\end{align*}$$"
   ]
  },
  {
   "cell_type": "code",
   "execution_count": 8,
   "metadata": {},
   "outputs": [],
   "source": [
    "T = 1000\n",
    "N = 2\n",
    "\n",
    "dis_obs_mat = array(\n",
    "    [[0.9, 0.1],\n",
    "     [0.1, 0.9]]\n",
    ")\n",
    "discrete_obs_law = DiscreteObsLaw(dis_obs_mat)\n",
    "\n",
    "states = range(N)\n",
    "trans_mat = array([\n",
    "    [0.6, 0.4],\n",
    "    [0.8, 0.2]\n",
    "])\n",
    "\n",
    "hmm_gen = HMMGen(\n",
    "    states, trans_mat, discrete_obs_law\n",
    ")\n",
    "\n",
    "observations, states_obs = hmm_gen.gen_obs(T, states=True)"
   ]
  },
  {
   "cell_type": "code",
   "execution_count": 9,
   "metadata": {},
   "outputs": [
    {
     "name": "stdout",
     "output_type": "stream",
     "text": [
      "Moyenne empirique de l'état 0 0.09292035398230089\n",
      "Moyenne théorique de l'état 0 0.1\n",
      "Moyenne empirique de l'état 1 0.9161490683229814\n",
      "Moyenne théorique de l'état 1 0.9\n"
     ]
    }
   ],
   "source": [
    "# Vérification des moyennes des valeurs générées\n",
    "\n",
    "one_count = 0\n",
    "zero_count = 0\n",
    "one_obs = []\n",
    "zero_obs = []\n",
    "zipped_obs_list = zip(observations, states_obs)\n",
    "for obs in zipped_obs_list:\n",
    "    if obs[-1] == 0:\n",
    "        zero_count += 1\n",
    "        zero_obs.append(obs[0])\n",
    "    else:\n",
    "        one_count += 1\n",
    "        one_obs.append(obs[0])\n",
    "\n",
    "print(\"Moyenne empirique de l'état 0\", sum(zero_obs) / zero_count)\n",
    "print(\"Moyenne théorique de l'état 0\", 0.1)\n",
    "\n",
    "print(\"Moyenne empirique de l'état 1\", sum(one_obs) / one_count)\n",
    "print(\"Moyenne théorique de l'état 1\", 0.9)"
   ]
  },
  {
   "cell_type": "code",
   "execution_count": 10,
   "metadata": {},
   "outputs": [
    {
     "name": "stdout",
     "output_type": "stream",
     "text": [
      "L'erreur de Viterbi est : 9.0%\n"
     ]
    }
   ],
   "source": [
    "viterbi = Viterbi(\n",
    "    states=states,\n",
    "    obs_list=observations,\n",
    "    trans_mat=trans_mat,\n",
    "    mus=hmm_gen.mus,\n",
    "    b_Sj_Ot_function=discrete_obs_law.b_Sj_Ot,\n",
    ")\n",
    "viterbi_states = viterbi.run_viterbi()\n",
    "\n",
    "\n",
    "error = get_error(states_obs, viterbi_states, T)\n",
    "\n",
    "print(f\"L'erreur de Viterbi est : {round(error * 100, 2)}%\")"
   ]
  },
  {
   "cell_type": "markdown",
   "metadata": {},
   "source": [
    "## Modèles de semi Markov cachés (Semi HMM)"
   ]
  },
  {
   "cell_type": "markdown",
   "metadata": {},
   "source": [
    "Les modèles de semi Markov cachés (semi HMM) sont une extension des HMMs où nous notons explicitement la durée dans laquelle le système passe dans un état. La durée est elle-même une variable aléatoire. \n",
    "\n",
    "Il y a plusieurs suppositions que nous pouvons faire quand nous précisons un Semi HMM. Dans notre cas, nous faisons certaines suppositions qui simplifient le système : \n",
    "\n",
    "* Les probabilités de transition ne dépendent que de l'état précédent (et non pas des durées).\n",
    "* Les durées ne dépendent pas des durées précédentes, ni des états précédents. \n",
    "* Les probabilités d'observation ne dépendent que de l'état actuel. \n",
    "\n",
    "Il faut également noter que dans les modèles semi HMM, les probabilités d'auto transition sont normalement égales à 0, ce qui nous supposons aussi. \n",
    "\n",
    "Ainsi, nous précisons : \n",
    "1. Pour décrire l'état du temps $t$ au temps $t+d$, nous écrivons $S_{t:t+d}=s$. Avec cette notation, nous supposons également que l'état au temps $t-1$ et l'état au temps $t+d+1$ ne sont pas en état $s$. C'est-à-dire, $S_{t:t+d}=s$ représente la durée totale et nous disons que l'état $s$ a une durée de $d$.\n",
    "2. Il y a une durée maximal $D\\in Z^+\\setminus\\{0\\}$. Nous traitons souvent $D$ comme un ensemble en écrivant $d\\in D$ si $d$ est une durée valide.\n",
    "3. La probabilité de durées est définie par une fonction de masse $f_D(d)$.\n",
    "4. Dans la matrice de transition, $A$, pour $i=j$, $a_{ij}=0$\n",
    "5. Nous précisons une séquence d'observations de durée $d$ en écrivant $O_{t:t+d}$. \n",
    "\n"
   ]
  },
  {
   "cell_type": "markdown",
   "metadata": {},
   "source": [
    "### Génération de données\n",
    "\n",
    "Suivant les suppositions simplifiantes, générer des données selon un Semi HMM exige uniquement une modification légère par rapport au cas de HMM.\n",
    "\n",
    "Une fois que nous sommes dans un état, avant de tirer une observation, nous tirons une durée selon la loi de durée. Puis, nous tirons le même nombre d'observations que la durée tirée. \n",
    "\n",
    "1. Tirer un état initial, $s\\in S$ selon la loi $\\mu$.\n",
    "2. Tirer une durée, $d \\in D$, selon la loi de durées, $f_D(d)$.\n",
    "3. Définir $S_{t:t+d}=s$.\n",
    "4. Pour chaque $t\\leq i\\leq t+d$, générer une observation selon $b_s(o)$ (discrèt), ou $f_s(o)$ (continu). Définir $O_i=o_i$, où $o_i\\in O$.\n",
    "5. Tirer le prochain état, $r\\in S$, selon la matrice de transition.\n",
    "6. Répéter les étapes 2 et 5 jusqu'à $t=T$.\n",
    "\n",
    "Normalement, quand nous générons les données, nous définissons a priori le nombre de transitions d'états, plutôt que $T$. Si nous choisissons $T$ a priori, alors la dernière durée ne sera pas complètement aléatoire parce qu'elle doit égale à $T-T^*$, où $T^*$ est la somme de toutes les durées jusqu'au dernier état. "
   ]
  },
  {
   "cell_type": "markdown",
   "metadata": {},
   "source": [
    "### L'Algorithme de Viterbi\n",
    "\n",
    "Dans le cas de Semi HMM, et dans notre cas précis, l'algorithme de Viterbi est principalement modifié par rapport au fait qu'il faut parcourir toutes les durées ainsi que tous les états. Avant, avec un HMM classique, nous calculons un delta pour chaque état. Maintenant, nous calculons un delta pour chaque paire d'état et de durée. \n",
    "\n",
    "Comme le cas HMM classique, nous visons à maximiser la probabilité d'être dans un état au temps $t$, étant donné toutes les observations $O_{1:t}$. Cependant, cette fois-ci, nous supposons que l'état a une durée $d$. Ainsi, plus précisement, nous cherchons à maximiser la probabilité d'avoir parcouru la séquence d'états $S_{1:t-d}$, observé $O_{1:t}$, et d'atteindre l'état $S_{t-d+1:t}=s$.\n",
    "\n",
    "Nous écrivons cette probabilité en dessous : \n",
    "\n",
    "$$\\begin{align*}\n",
    "\\delta_t(s, d) &= \\max_{S_{1:t-d}}P[S_{1:t-d},S_{t-d+1:t}=s, O_{1:t}] \\\\\n",
    "\\end{align*}$$\n",
    "\n",
    "La définition itérative : \n",
    "\n",
    "$$\\begin{align*}\n",
    "\\delta_t(s, d) &= \\max_{r\\in S\\setminus\\{s\\}, d'\\in D}[\\delta_{t-d}(r, d')a_{rs}f_D(d)b_s(O_{t-d+1:t})]\n",
    "\\end{align*}$$\n",
    "\n",
    "La définition est assez similaire à celle du cas HMM classique. Cependant, maintenant nous maximisons sur une paire d'état et de durée, et nous multiplions aussi par la probabilité de durée $f_D(d)$. Enfin, $b_s(O_{t-d+1:t})$ est calculé sur une séquence d'observations, ce que nous pouvons faire selon : \n",
    "\n",
    "$$\\begin{align*}\n",
    "b_s(O_{t-d+1:t}) &=P[O_{t-d+1:t}=o_{t-d+1:t}|S_{t-d+1:t}=s] \\\\\n",
    "&= P[O_{t-d+1}=o_{t-d+1},\\cdots,O_{t}=o_{t}|S_{t-d+1:t}=s] \\\\\n",
    "&= P[O_{t-d+1}=o_{t-d+1}|S_{t-d+1:t}=s]\\cdots P[O_{t}=o_{t}|S_{t-d+1:t}=s] \\\\\n",
    "&= \\prod_{i=t-d+1}^{t}P[O_i=o_i|S_i=s]\n",
    "\\end{align*}$$\n",
    "\n",
    "Où nous avons utilisé le fait que les observations sont indépendentes. \n",
    "\n",
    "Notons qu'à chaque temps $t$, il y a un delta pour chaque paire d'état et de durée. Ainsi, nous représentons les deltas au temps $t$ par une matrice, $\\Delta^t$, de taille $D\\times S$.\n",
    "\n",
    "$$\\Delta^t_{sd}=\\{\\delta_t(s, d)\\}$$"
   ]
  },
  {
   "cell_type": "markdown",
   "metadata": {},
   "source": [
    "Pour initialiser les deltas, notons que dans le cas HMM classique, nous les initialisons uniquement au temps $t=1$. En revanche, dans le cas semi HMM, le processus d'initialisation se produit aux plusieurs pas de temps, jusqu'au temps $t=D$.\n",
    "\n",
    "La formule d'initialisation est donnée par : \n",
    "\n",
    "$$\\delta_t(s, d)_{\\text{init}}=\\mu_s f_D(d) b_s(O_{t-d+1:t})$$\n",
    "\n",
    "Ce qui est nouveau ici, c'est que nous avons introduit la probabilité de durée, et encore une fois la probabilité d'une séquence d'observations.\n",
    "\n",
    "Nous éclaircissons le processus d'initialisation à titre d'un exemple.\n",
    "1. Au temps $t=1$, nous ne pouvons initialiser les deltas que pour $d=1$ parce qu'il n'existe pas d'observations au temps $t-d+1$ pour $d>1$. Donc, $\\Delta^1_{sd}=\\delta_t(s, d)_{\\text{init}}$ pour $d=1$, et $\\Delta^1_{sd}=0$ pour $d>1$.\n",
    "2. Au temps $t=2$, afin de construire $\\Delta^2$, il est nécessaire d'utiliser la définition itérative de delta, où elle est valide, ainsi que la formule d'initialisation, où elle est valide. Pour $d=1$, nous utilisons la définition itérative puisqu'il existe des valeurs valides de $\\delta_{t-d}$. Pour $d>2$, nous utilisons la formule d'initialisation. Pour $d=2$, il n'est pas valide d'utiliser ni l'une ni l'autre. Donc, $\\Delta^2_{sd}=\\delta_t(s, d)$ pour $d=1$, $\\Delta^2_{sd}=\\delta_t(s, d)_{\\text{init}}$ pour $d=2$, et $\\Delta^2_{sd}=0$ pour $d>2$.\n",
    "3. Nous procédons de la même façon jusqu'au $t=D$, après quoi il n'est plus nécessaire d'utiliser la formule d'initialisation, et tous les deltas peuvent être calculés à l'aide de la définition itérative."
   ]
  },
  {
   "cell_type": "markdown",
   "metadata": {},
   "source": [
    "Afin de déterminer la séquence d'états et de durées optimaux, nous traversons les deltas en arrière depuis temps $T$ en considérant l'état et la durée précédents les plus probables qui nous mène à l'état et la durée actuels.\n",
    "\n",
    "Donc, nous définissons : \n",
    "\n",
    "$$\\phi_t(s,d)=\\argmax_{r\\in S\\setminus\\{s\\}, d'\\in D}[\\delta_{t-d}(r, d')a_{rs}f_D(d)b_s(O_{t-d+1:t})]$$\n",
    "\n",
    "Cela représente l'état et la durée les plus probables au temps $t-d$ qui nous a mené à l'état $s$ de durée $d$ en se terminant au temps $t$. Comme les deltas, à chaque temps $t$, nous pouvons définir une matrice $\\Phi^t$ où $\\Phi^t_{sd}=\\phi_t(s,d)$. Cela nous permet de sélectionner facilement l'état et la durée précédents quand nous construisons la séquence optimale.\n",
    "\n",
    "Par exemple, si $\\Phi^t_{sd}=(r, d')$, nous disons qu'il était l'état $r$ de durée $d'$ qui était le plus probable de nous avoir mené à l'état $s$ de durée $d$ en se terminant au temps $t$.\n",
    "\n",
    "Pour initialiser les phis, nous mettons $\\Phi^t_{sd}=0$ selon les cas d'initialisation des deltas.\n",
    "\n",
    "Pour initialiser la traversée, nous définissons l'état et la durée optimaux comme\n",
    "\n",
    "$$j^*_1, d^*_1=\\argmax_{s\\in S, d\\in D}\\delta_T(s,d)$$\n",
    "\n",
    "Supposons que $(j^*_1, d^*_1)=(s, d)$. Pour déterminer l'état et la durée précédents, nous voulons savoir quels étaient l'état et la durée les plus probables de nous avoir mené à l'état $s$ de durée $d$ en se terminant au temps $T$. Par définition, cette information est encodée en $\\Phi^T_{sd}$. Supposons que $\\Phi^T_{sd}=(r, d')$. Nous continuouns de la même manière. Puisque nous savons également que l'état $r$ de durée $d'$ doit se terminer au temps $T-d$, nous cherchons l'état et la durée les plus probables de nous avoir mené à l'état $r$ de durée $d'$ en se terminant au temps $T-d$. Cette information est encodée en $\\Phi^{T-d}_{rd'}$.\n",
    "\n",
    "Remarquons que $(j^*_1, d^*_1)$ représente $S^*_{T-d^*_1:T}$ ; c'est-à-dire que l'indice des des états et des durées optimaux signifie l'ordre dans lesquelles ils sont déterminés avec l'algorithme, et non pas les pas de temps qu'ils traversent. La dernière paire d'état et durée $(j^*_N, d^*_N)$, où $N$ est le nombre de transitions d'état déterminé par l'algoritme, représente l'état et la durée initiaux dans la séquence ; c'est-à-dire, $S^*_{1:d^*_N}=j^*_N$"
   ]
  },
  {
   "cell_type": "markdown",
   "metadata": {},
   "source": [
    "Algorithme :\n",
    "1. Pour $t=1:D$, pour $s\\in S$, pour $d\\in D$\n",
    "\n",
    "$$\n",
    "\\Delta^t_{sd} =\n",
    "\\begin{cases} \n",
    "\\delta_t(s, d)_{\\text{init}} & \\text{si } t = d \\\\ \n",
    "\\delta_t(s, d) & \\text{si } t - d + 1 > 0 \\\\ \n",
    "0 & \\text{sinon}\n",
    "\\end{cases}\n",
    "$$\n",
    "$$\n",
    "\\Phi^t_{sd} =\n",
    "\\begin{cases} \n",
    "0 & \\text{si } t = d \\\\ \n",
    "\\phi_t(s, d) & \\text{si } t - d + 1 > 0 \\\\ \n",
    "0 & \\text{sinon}\n",
    "\\end{cases}\n",
    "$$\n",
    "\n",
    "2. Pour $t=(D+1):T$, pour $s\\in S$, pour $d\\in D$\n",
    "    $$\\delta_t(s, d) = \\max_{r\\in S\\setminus\\{s\\}, d'\\in D}[\\delta_{t-d}(r, d')a_{rs}f_D(d)b_s(O_{t-d+1:t})]$$\n",
    "    $$\\phi_t(s,d)=\\argmax_{r\\in S\\setminus\\{s\\}, d'\\in D}[\\delta_{t-d}(r, d')a_{rs}f_D(d)b_s(O_{t-d+1:t})]$$\n",
    "    \n",
    "3. Soit $t=T$. Définir :\n",
    "$$j^*_1, d^*_1=\\argmax_{s\\in S, d\\in D}\\delta_t(s,d)$$\n",
    "\n",
    "4. Définir : \n",
    "$$j^*_n, d^*_n=\\Phi^t_{j^*_{n-1}, d^*_{n-1}}$$\n",
    "\n",
    "5. Soit $t=t-d^*_{n-1}$. Soit $n=n+1$.\n",
    "\n",
    "6. Répéter les étapes 4 et 5 jusqu'à $t=0$.\n"
   ]
  },
  {
   "cell_type": "markdown",
   "metadata": {},
   "source": [
    "### Semi HMM avec des observations selon une loi gaussienne"
   ]
  },
  {
   "cell_type": "markdown",
   "metadata": {},
   "source": [
    "Le modèle semi HMM défini dans cette section sera : \n",
    "\n",
    "1. Il y a deux états : $S=\\{0, 1\\}$\n",
    "2. La matrice de transition est donnée par : \n",
    "$$ A = \\begin{bmatrix} 0 & 1 \\\\ 1 & 0 \\\\ \\end{bmatrix} $$\n",
    "3. Le loi d'initialisation est donnée par :\n",
    "$$\\mu = \\{0,5 \\enspace 0,5\\}$$\n",
    "4. $f_s(O_t)$ est une distribution gaussienne, où nous précisons la moyenne et la variance pour chaque état : \n",
    "$$\\text{moyenne d'état 0 : }  \\begin{bmatrix} 2 \\\\ 1 \\end{bmatrix} \\text{ variance d'état 0 : }  \\begin{bmatrix} 1 & 0 \\\\ 0 & 1 \\\\ \\end{bmatrix}$$\n",
    "$$\\text{moyenne d'état 1 : }  \\begin{bmatrix} -1 \\\\ 2 \\end{bmatrix} \\text{ variance d'état 1 : }  \\begin{bmatrix} 0,5 & 0 \\\\ 0 & 0,5 \\\\ \\end{bmatrix}$$\n",
    "5. $D=4$ et la loi de durée est définie par : \n",
    "$$f_D(f)=\\begin{cases}\n",
    "0,1& \\text{si}\\; d=1 \\\\\n",
    "0,4& \\text{si}\\; d=2 \\\\\n",
    "0,1& \\text{si}\\;d=3\\\\\n",
    "0,4& \\text{si}\\; d=4\n",
    "\\end{cases}$$\n"
   ]
  },
  {
   "cell_type": "code",
   "execution_count": 11,
   "metadata": {},
   "outputs": [
    {
     "name": "stderr",
     "output_type": "stream",
     "text": [
      "c:\\Users\\bensi\\pyIMT\\HMM Project\\hmmadn\\hmmadn\\semihmm\\semiviterbi.py:67: RuntimeWarning: divide by zero encountered in log\n",
      "  + log(self._b_Sj_Ot(j, self.obs_list[(t+1-d):t+1]))\n"
     ]
    }
   ],
   "source": [
    "duration_probs = {1: 0.1, 2: 0.4, 3: 0.1, 4: 0.4}\n",
    "duration_law1 = DurationProbVec(\n",
    "    array(list(duration_probs.values())),\n",
    "    list(duration_probs.keys())\n",
    ")\n",
    "\n",
    "semi_obs_law = GaussObsLaw(get_state_params(0.01))\n",
    "\n",
    "\n",
    "T = 100\n",
    "n = 2\n",
    "mus = [0.5, 0.5]\n",
    "D = 4\n",
    "\n",
    "sem_trans_mat = array(\n",
    "    [[0, 1],\n",
    "    [1, 0]]\n",
    ")\n",
    "\n",
    "semi_hmm_gen = SemiGen(\n",
    "    states, sem_trans_mat, semi_obs_law, duration_law1,\n",
    ")\n",
    "semi_gen_res = semi_hmm_gen.gen_semi_hmm(T)\n",
    "\n",
    "semi_vet = SemiViterbi(\n",
    "    n, D, semi_gen_res, mus, duration_law1,\n",
    "    semi_obs_law.b_Sj_Ot_list, sem_trans_mat\n",
    ")\n",
    "semi_vet.run_viterbi()"
   ]
  },
  {
   "cell_type": "code",
   "execution_count": 15,
   "metadata": {},
   "outputs": [
    {
     "name": "stdout",
     "output_type": "stream",
     "text": [
      "Occurrence observée de durée 1 :  0.09\n",
      "Occurrence théorique de durée 1 :  0.1\n",
      "Occurrence observée de durée 2 :  0.36\n",
      "Occurrence théorique de durée 2 :  0.4\n",
      "Occurrence observée de durée 3 :  0.13\n",
      "Occurrence théorique de durée 3 :  0.1\n",
      "Occurrence observée de durée 4 :  0.42\n",
      "Occurrence théorique de durée 4 :  0.4\n"
     ]
    }
   ],
   "source": [
    "# Nous vérifions que les occurrence des durées suivent la loi de durées.\n",
    "ds = {}\n",
    "for duraction in semi_gen_res.duration_only:\n",
    "    if duraction not in ds:\n",
    "        ds[duraction] = 1\n",
    "    else:\n",
    "        ds[duraction] += 1\n",
    "\n",
    "for k, v in ds.items():\n",
    "    ds[k] = v / T\n",
    "\n",
    "print(\"Occurrence observée de durée 1 : \", ds[1])\n",
    "print(\"Occurrence théorique de durée 1 : \", duration_probs[1])\n",
    "print(\"Occurrence observée de durée 2 : \", ds[2])\n",
    "print(\"Occurrence théorique de durée 2 : \", duration_probs[2])\n",
    "print(\"Occurrence observée de durée 3 : \", ds[3])\n",
    "print(\"Occurrence théorique de durée 3 : \", duration_probs[3])\n",
    "print(\"Occurrence observée de durée 4 : \", ds[4])\n",
    "print(\"Occurrence théorique de durée 4 : \", duration_probs[4])"
   ]
  },
  {
   "cell_type": "code",
   "execution_count": 16,
   "metadata": {},
   "outputs": [
    {
     "name": "stdout",
     "output_type": "stream",
     "text": [
      "Erreur d'état 0.0%\n",
      "Erreur de durée 0.0%\n"
     ]
    }
   ],
   "source": [
    "states_error = get_error(semi_gen_res.states_only, semi_vet.states_only, T)\n",
    "duration_error = get_duration_error(semi_gen_res.duration_only, semi_vet.durations_only)\n",
    "\n",
    "print(f\"Erreur d'état {round(states_error, 2) * 100}%\")\n",
    "print(f\"Erreur de durée {round(duration_error, 2)  * 100}%\")"
   ]
  },
  {
   "cell_type": "code",
   "execution_count": 17,
   "metadata": {},
   "outputs": [],
   "source": [
    "def run_semi_hmm_gen_and_viterbi(obs_law, dur_law) -> float:\n",
    "    semi_hmm_gen = SemiGen(\n",
    "        states, sem_trans_mat, obs_law, dur_law,\n",
    "    )\n",
    "    semi_gen_res = semi_hmm_gen.gen_semi_hmm(T)\n",
    "\n",
    "    semi_vet = SemiViterbi(\n",
    "        n, D, semi_gen_res, mus, dur_law,\n",
    "        obs_law.b_Sj_Ot_list, sem_trans_mat\n",
    "    )\n",
    "    semi_vet.run_viterbi()\n",
    "\n",
    "    states_error = get_error(semi_gen_res.states_only, semi_vet.states_only, T)\n",
    "    duration_error = get_duration_error(semi_gen_res.duration_only, semi_vet.durations_only)\n",
    "\n",
    "    return states_error, duration_error\n",
    "\n",
    "def get_state_params2(alpha: float = 1) -> dict:\n",
    "    return {\n",
    "        0: {\n",
    "            'mean': array([2, 1]),\n",
    "            'cov': alpha * array(\n",
    "                [[0.01, 0],\n",
    "                [0, 0.01]]\n",
    "            ),\n",
    "        },\n",
    "        1: {\n",
    "            'mean': array([-1, 2]),\n",
    "            'cov': alpha * array(\n",
    "                [[0.01, 0],\n",
    "                [0, 0.01]]\n",
    "            ),\n",
    "        }\n",
    "    }"
   ]
  },
  {
   "cell_type": "code",
   "execution_count": 17,
   "metadata": {},
   "outputs": [
    {
     "name": "stderr",
     "output_type": "stream",
     "text": [
      "c:\\Users\\bensi\\pyIMT\\HMM Project\\hmmadn\\hmmadn\\semihmm\\semiviterbi.py:67: RuntimeWarning: divide by zero encountered in log\n",
      "  + log(self._b_Sj_Ot(j, self.obs_list[(t+1-d):t+1]))\n"
     ]
    },
    {
     "data": {
      "text/plain": [
       "<matplotlib.legend.Legend at 0x274e36b4ed0>"
      ]
     },
     "execution_count": 17,
     "metadata": {},
     "output_type": "execute_result"
    },
    {
     "data": {
      "image/png": "[encoded data removed]",
      "text/plain": [
       "<Figure size 640x480 with 1 Axes>"
      ]
     },
     "metadata": {},
     "output_type": "display_data"
    }
   ],
   "source": [
    "state_errors = []\n",
    "duration_errors = []\n",
    "runs = 10\n",
    "steps = range(1, 100)\n",
    "for step in steps:\n",
    "    while True:\n",
    "        try:\n",
    "            states_error_avgs = []\n",
    "            duration_error_avgs = []\n",
    "            for _ in range(runs):\n",
    "                states_error, duration_error = run_semi_hmm_gen_and_viterbi(\n",
    "                    GaussObsLaw(get_state_params2(step)),\n",
    "                    duration_law1\n",
    "                )\n",
    "                states_error_avgs.append(states_error)\n",
    "                duration_error_avgs.append(duration_error)\n",
    "        except ValueError:\n",
    "            pass\n",
    "        else:\n",
    "            state_errors.append(array(states_error_avgs).mean())\n",
    "            duration_errors.append(array(duration_error_avgs).mean())\n",
    "            break\n",
    "\n",
    "        \n",
    "plt.plot(steps, state_errors, label=\"Erreur d'état\")\n",
    "plt.plot(steps, duration_errors, label=\"Erreur de durée\")\n",
    "plt.ylabel(\"Pourcentage d'erreur\")\n",
    "plt.xlabel(\"Pourcentage de variance\")\n",
    "plt.legend()"
   ]
  },
  {
   "cell_type": "markdown",
   "metadata": {},
   "source": [
    "### Semi HMM avec des observations selon une loi discrète"
   ]
  },
  {
   "cell_type": "markdown",
   "metadata": {},
   "source": [
    "Le modèle dans cette section est essentiellement identique que celui dans le cas gaussien, sauf que nous définissons une probabilité d'observation discrète : \n",
    "\n",
    "$$O = \\{0, 1\\}$$\n",
    "$$B=\\begin{bmatrix} 0,9 & 0,1 \\\\ 0,1 & 0,9 \\\\ \\end{bmatrix} $$"
   ]
  },
  {
   "cell_type": "code",
   "execution_count": 173,
   "metadata": {},
   "outputs": [],
   "source": [
    "\n",
    "T =  100\n",
    "n = 2\n",
    "mus = [0.5, 0.5]\n",
    "D = 4\n",
    "\n",
    "sem_trans_mat = array(\n",
    "    [[0, 1],\n",
    "    [1, 0]]\n",
    ")\n",
    "duration_law1 = DurationProbVec(\n",
    "    array([0.1, 0.4, 0.1, 0.4]),\n",
    "    [1, 2, 3, 4]\n",
    ")\n",
    "\n",
    "semi_hmm_gen = SemiGen(\n",
    "    states, sem_trans_mat, discrete_obs_law, duration_law1,\n",
    ")\n",
    "semi_gen_res = semi_hmm_gen.gen_semi_hmm(T)\n",
    "\n",
    "semi_vet = SemiViterbi(\n",
    "    n, D, semi_gen_res, mus, duration_law1,\n",
    "    discrete_obs_law.b_Sj_Ot_list, sem_trans_mat\n",
    ")\n",
    "semi_vet.run_viterbi()"
   ]
  },
  {
   "cell_type": "code",
   "execution_count": 165,
   "metadata": {},
   "outputs": [
    {
     "name": "stdout",
     "output_type": "stream",
     "text": [
      "Occurrence observée de durée 1 :  0.11\n",
      "Occurrence théorique de durée 1 :  0.1\n",
      "Occurrence observée de durée 2 :  0.38\n",
      "Occurrence théorique de durée 2 :  0.4\n",
      "Occurrence observée de durée 3 :  0.1\n",
      "Occurrence théorique de durée 3 :  0.1\n",
      "Occurrence observée de durée 4 :  0.41\n",
      "Occurrence théorique de durée 4 :  0.4\n"
     ]
    }
   ],
   "source": [
    "ds = {v: 0 for v in duration_law1.value_vec}\n",
    "for duration in semi_gen_res.duration_only:\n",
    "    ds[duration] += 1\n",
    "\n",
    "for k, v in ds.items():\n",
    "    ds[k] = v / T\n",
    "\n",
    "\n",
    "print(\"Occurrence observée de durée 1 : \", ds[1])\n",
    "print(\"Occurrence théorique de durée 1 : \", duration_probs[1])\n",
    "print(\"Occurrence observée de durée 2 : \", ds[2])\n",
    "print(\"Occurrence théorique de durée 2 : \", duration_probs[2])\n",
    "print(\"Occurrence observée de durée 3 : \", ds[3])\n",
    "print(\"Occurrence théorique de durée 3 : \", duration_probs[3])\n",
    "print(\"Occurrence observée de durée 4 : \", ds[4])\n",
    "print(\"Occurrence théorique de durée 4 : \", duration_probs[4])"
   ]
  },
  {
   "cell_type": "code",
   "execution_count": 166,
   "metadata": {},
   "outputs": [
    {
     "name": "stdout",
     "output_type": "stream",
     "text": [
      "Observation moyenne pour état 0 :  0.07746478873239436\n",
      "Observation théorique pour état 0 :  0.1\n",
      "Observation moyenne pour état 1 :  0.8920863309352518\n",
      "Observation théorique pour état 1 :  0.9\n"
     ]
    }
   ],
   "source": [
    "states_and_obs = list(zip(semi_gen_res.states_only, semi_gen_res.segmented_obs))\n",
    "obs0 = concat([array(res[1]) for res in states_and_obs if res[0] == 0])\n",
    "obs1 = concat([array(res[1]) for res in states_and_obs if res[0] == 1])\n",
    "\n",
    "print(\"Observation moyenne pour état 0 : \", obs0.sum() / len(obs0))\n",
    "print(\"Observation théorique pour état 0 : \", 0.1)\n",
    "print(\"Observation moyenne pour état 1 : \", obs1.sum() / len(obs1))\n",
    "print(\"Observation théorique pour état 1 : \", 0.9)"
   ]
  },
  {
   "cell_type": "code",
   "execution_count": 170,
   "metadata": {},
   "outputs": [
    {
     "name": "stdout",
     "output_type": "stream",
     "text": [
      "Erreur de durée 0.4329896907216495\n"
     ]
    }
   ],
   "source": [
    "def get_discrete_law_error(vet_duration_only: ndarray, gen_duration_only: ndarray) -> float:\n",
    "    n_ = len(gen_duration_only)\n",
    "    m_ = len(vet_duration_only)\n",
    "    if m_ < n_:\n",
    "        gen_duration_only = gen_duration_only[:m_]\n",
    "    if n_ < m_:\n",
    "        vet_duration_only = vet_duration_only[:n_]\n",
    "\n",
    "    return get_duration_error(gen_duration_only, vet_duration_only)\n",
    "\n",
    "\n",
    "duration_error = get_discrete_law_error(semi_vet.durations_only, semi_gen_res.duration_only)\n",
    "print(\"Erreur de durée\", duration_error)"
   ]
  },
  {
   "cell_type": "code",
   "execution_count": 177,
   "metadata": {},
   "outputs": [],
   "source": [
    "def run_discrete() -> float:\n",
    "    semi_hmm_gen = SemiGen(\n",
    "        states, sem_trans_mat, discrete_obs_law, duration_law1,\n",
    "    )\n",
    "    semi_gen_res = semi_hmm_gen.gen_semi_hmm(T)\n",
    "\n",
    "    semi_vet = SemiViterbi(\n",
    "        n, D, semi_gen_res, mus, duration_law1,\n",
    "        discrete_obs_law.b_Sj_Ot_list, sem_trans_mat\n",
    "    )\n",
    "    semi_vet.run_viterbi()\n",
    "\n",
    "    return get_discrete_law_error(semi_vet.durations_only, semi_gen_res.duration_only)\n",
    "\n",
    "def run_100_times(error_func: callable) -> float:\n",
    "    return sum([error_func() for _ in range(100)]) / 100"
   ]
  },
  {
   "cell_type": "code",
   "execution_count": 178,
   "metadata": {},
   "outputs": [
    {
     "data": {
      "text/plain": [
       "np.float64(0.48048007667304715)"
      ]
     },
     "execution_count": 178,
     "metadata": {},
     "output_type": "execute_result"
    }
   ],
   "source": [
    "run_100_times(run_discrete)"
   ]
  },
  {
   "cell_type": "markdown",
   "metadata": {},
   "source": [
    "## New Model"
   ]
  },
  {
   "cell_type": "code",
   "execution_count": 179,
   "metadata": {},
   "outputs": [],
   "source": [
    "def duration_prob_vector(delta: int) -> DurationProbVec:\n",
    "    durations = range(1, 2 * delta + 1)\n",
    "    non_zero_deltas = (delta, delta * 2)\n",
    "    probs = [\n",
    "        0.5 if d in non_zero_deltas else 0 for d in durations\n",
    "    ]\n",
    "    return DurationProbVec(\n",
    "        array(probs),\n",
    "        durations\n",
    "    )\n",
    "\n",
    "\n",
    "delta_base = 2\n",
    "delta = 2\n",
    "D = delta * 2\n",
    "n = 2\n",
    "\n",
    "delta_duration_law = duration_prob_vector(delta)"
   ]
  },
  {
   "cell_type": "code",
   "execution_count": 180,
   "metadata": {},
   "outputs": [
    {
     "name": "stderr",
     "output_type": "stream",
     "text": [
      "c:\\Users\\bensi\\pyIMT\\HMM Project\\hmmadn\\hmmadn\\semihmm\\semiviterbi.py:66: RuntimeWarning: divide by zero encountered in log\n",
      "  + log(self.pd(d))\n"
     ]
    }
   ],
   "source": [
    "semi_hmm_delta_gen = SemiGen(\n",
    "    states, sem_trans_mat, discrete_obs_law, delta_duration_law,\n",
    ")\n",
    "semi_delta_gen_res = semi_hmm_delta_gen.gen_semi_hmm(T)\n",
    "\n",
    "semi_delta_vet = SemiViterbi(\n",
    "    n, D, semi_delta_gen_res, mus, delta_duration_law,\n",
    "    discrete_obs_law.b_Sj_Ot_list, sem_trans_mat\n",
    ")\n",
    "semi_delta_vet.run_viterbi()"
   ]
  },
  {
   "cell_type": "code",
   "execution_count": 176,
   "metadata": {},
   "outputs": [
    {
     "name": "stdout",
     "output_type": "stream",
     "text": [
      "Erreur de durée 0.14\n"
     ]
    }
   ],
   "source": [
    "duration_error = get_discrete_law_error(\n",
    "    semi_delta_vet.durations_only,\n",
    "    semi_delta_gen_res.duration_only,\n",
    ")\n",
    "\n",
    "print(\"Erreur de durée\", duration_error)"
   ]
  },
  {
   "cell_type": "code",
   "execution_count": 113,
   "metadata": {},
   "outputs": [
    {
     "name": "stdout",
     "output_type": "stream",
     "text": [
      "((1, 2), (1, 2))\n",
      "((0, 4), (0, 4))\n",
      "((1, 2), (1, 2))\n",
      "((0, 2), (0, 2))\n",
      "((1, 4), (1, 4))\n",
      "((0, 2), (0, 2))\n",
      "((1, 4), (1, 4))\n",
      "((0, 2), (0, 2))\n",
      "((1, 4), (1, 4))\n",
      "((0, 4), (0, 2))\n",
      "((1, 2), (1, 2))\n",
      "((0, 2), (0, 4))\n",
      "((1, 2), (1, 2))\n",
      "((0, 4), (0, 4))\n",
      "((1, 4), (1, 4))\n",
      "((0, 4), (0, 4))\n",
      "((1, 2), (1, 2))\n",
      "((0, 4), (0, 4))\n",
      "((1, 4), (1, 4))\n",
      "((0, 2), (0, 2))\n",
      "((1, 2), (1, 4))\n",
      "((0, 4), (0, 2))\n",
      "((1, 2), (1, 2))\n",
      "((0, 4), (0, 4))\n",
      "((1, 2), (1, 2))\n",
      "((0, 4), (0, 4))\n",
      "((1, 2), (1, 2))\n",
      "((0, 2), (0, 2))\n",
      "((1, 2), (1, 2))\n",
      "((0, 4), (0, 4))\n",
      "((1, 2), (1, 2))\n",
      "((0, 2), (0, 2))\n",
      "((1, 2), (1, 2))\n",
      "((0, 4), (0, 4))\n",
      "((1, 2), (1, 2))\n",
      "((0, 4), (0, 4))\n",
      "((1, 4), (1, 4))\n",
      "((0, 2), (0, 2))\n",
      "((1, 2), (1, 2))\n",
      "((0, 4), (0, 4))\n",
      "((1, 2), (1, 2))\n",
      "((0, 2), (0, 2))\n",
      "((1, 2), (1, 2))\n",
      "((0, 4), (0, 4))\n",
      "((1, 4), (1, 4))\n",
      "((0, 4), (0, 4))\n",
      "((1, 4), (1, 4))\n",
      "((0, 4), (0, 4))\n",
      "((1, 4), (1, 4))\n",
      "((0, 2), (0, 4))\n",
      "((1, 4), (1, 4))\n",
      "((0, 4), (0, 4))\n",
      "((1, 4), (1, 2))\n",
      "((0, 4), (0, 4))\n",
      "((1, 2), (1, 4))\n",
      "((0, 4), (0, 2))\n",
      "((1, 2), (1, 2))\n",
      "((0, 2), (0, 2))\n",
      "((1, 2), (1, 2))\n",
      "((0, 4), (0, 4))\n",
      "((1, 4), (1, 4))\n",
      "((0, 4), (0, 4))\n",
      "((1, 4), (1, 4))\n",
      "((0, 4), (0, 4))\n",
      "((1, 4), (1, 4))\n",
      "((0, 4), (0, 4))\n",
      "((1, 2), (1, 2))\n",
      "((0, 2), (0, 2))\n",
      "((1, 2), (1, 4))\n",
      "((0, 4), (0, 2))\n",
      "((1, 2), (1, 2))\n",
      "((0, 2), (0, 2))\n",
      "((1, 2), (1, 2))\n",
      "((0, 2), (0, 2))\n",
      "((1, 2), (1, 4))\n",
      "((0, 2), (0, 4))\n",
      "((1, 2), (1, 2))\n",
      "((0, 2), (0, 4))\n",
      "((1, 2), (1, 2))\n",
      "((0, 4), (0, 4))\n",
      "((1, 2), (1, 2))\n",
      "((0, 2), (0, 2))\n",
      "((1, 4), (1, 4))\n",
      "((0, 2), (0, 4))\n",
      "((1, 4), (1, 4))\n",
      "((0, 4), (0, 2))\n",
      "((1, 4), (1, 4))\n",
      "((0, 2), (0, 4))\n",
      "((1, 4), (1, 2))\n",
      "((0, 2), (0, 2))\n",
      "((1, 4), (1, 2))\n",
      "((0, 2), (0, 4))\n",
      "((1, 2), (1, 4))\n",
      "((0, 4), (0, 2))\n",
      "((1, 2), (1, 2))\n",
      "((0, 4), (0, 2))\n",
      "((1, 2), (1, 2))\n",
      "((0, 2), (0, 2))\n"
     ]
    }
   ],
   "source": [
    "r = list(zip(\n",
    "    semi_delta_gen_res.states_and_durations,\n",
    "    semi_delta_vet.states_and_durations\n",
    "))\n",
    "for i in r:\n",
    "    print(i)"
   ]
  },
  {
   "cell_type": "code",
   "execution_count": 181,
   "metadata": {},
   "outputs": [],
   "source": [
    "def run_delta_viterbi(delta: int) -> float:\n",
    "    delta_duration_law = duration_prob_vector(delta)\n",
    "    D = delta * 2\n",
    "\n",
    "    semi_hmm_delta_gen = SemiGen(\n",
    "        states, sem_trans_mat, discrete_obs_law, delta_duration_law,\n",
    "    )\n",
    "    semi_delta_gen_res = semi_hmm_delta_gen.gen_semi_hmm(T)\n",
    "\n",
    "    semi_delta_vet = SemiViterbi(\n",
    "        n, D, semi_delta_gen_res, mus, delta_duration_law,\n",
    "        discrete_obs_law.b_Sj_Ot_list, sem_trans_mat\n",
    "    )\n",
    "    semi_delta_vet.run_viterbi()\n",
    "\n",
    "    return get_discrete_law_error(\n",
    "        semi_delta_vet.durations_only,\n",
    "        semi_delta_gen_res.duration_only,\n",
    "    )\n",
    "    "
   ]
  },
  {
   "cell_type": "code",
   "execution_count": 192,
   "metadata": {},
   "outputs": [
    {
     "name": "stderr",
     "output_type": "stream",
     "text": [
      "c:\\Users\\bensi\\pyIMT\\HMM Project\\hmmadn\\hmmadn\\semihmm\\semiviterbi.py:66: RuntimeWarning: divide by zero encountered in log\n",
      "  + log(self.pd(d))\n"
     ]
    },
    {
     "ename": "KeyboardInterrupt",
     "evalue": "",
     "output_type": "error",
     "traceback": [
      "\u001b[1;31m---------------------------------------------------------------------------\u001b[0m",
      "\u001b[1;31mKeyboardInterrupt\u001b[0m                         Traceback (most recent call last)",
      "Cell \u001b[1;32mIn[192], line 5\u001b[0m\n\u001b[0;32m      2\u001b[0m errors \u001b[38;5;241m=\u001b[39m []\n\u001b[0;32m      3\u001b[0m \u001b[38;5;28;01mfor\u001b[39;00m delta_ \u001b[38;5;129;01min\u001b[39;00m deltas:\n\u001b[0;32m      4\u001b[0m     errors\u001b[38;5;241m.\u001b[39mappend(\n\u001b[1;32m----> 5\u001b[0m         \u001b[43mrun_100_times\u001b[49m\u001b[43m(\u001b[49m\u001b[38;5;28;43;01mlambda\u001b[39;49;00m\u001b[43m:\u001b[49m\u001b[43m \u001b[49m\u001b[43mrun_delta_viterbi\u001b[49m\u001b[43m(\u001b[49m\u001b[43mdelta_\u001b[49m\u001b[43m)\u001b[49m\u001b[43m)\u001b[49m\n\u001b[0;32m      6\u001b[0m     )\n",
      "Cell \u001b[1;32mIn[177], line 16\u001b[0m, in \u001b[0;36mrun_100_times\u001b[1;34m(error_func)\u001b[0m\n\u001b[0;32m     15\u001b[0m \u001b[38;5;28;01mdef\u001b[39;00m\u001b[38;5;250m \u001b[39m\u001b[38;5;21mrun_100_times\u001b[39m(error_func: \u001b[38;5;28mcallable\u001b[39m) \u001b[38;5;241m-\u001b[39m\u001b[38;5;241m>\u001b[39m \u001b[38;5;28mfloat\u001b[39m:\n\u001b[1;32m---> 16\u001b[0m     \u001b[38;5;28;01mreturn\u001b[39;00m \u001b[38;5;28msum\u001b[39m(\u001b[43m[\u001b[49m\u001b[43merror_func\u001b[49m\u001b[43m(\u001b[49m\u001b[43m)\u001b[49m\u001b[43m \u001b[49m\u001b[38;5;28;43;01mfor\u001b[39;49;00m\u001b[43m \u001b[49m\u001b[43m_\u001b[49m\u001b[43m \u001b[49m\u001b[38;5;129;43;01min\u001b[39;49;00m\u001b[43m \u001b[49m\u001b[38;5;28;43mrange\u001b[39;49m\u001b[43m(\u001b[49m\u001b[38;5;241;43m100\u001b[39;49m\u001b[43m)\u001b[49m\u001b[43m]\u001b[49m) \u001b[38;5;241m/\u001b[39m \u001b[38;5;241m100\u001b[39m\n",
      "Cell \u001b[1;32mIn[177], line 16\u001b[0m, in \u001b[0;36m<listcomp>\u001b[1;34m(.0)\u001b[0m\n\u001b[0;32m     15\u001b[0m \u001b[38;5;28;01mdef\u001b[39;00m\u001b[38;5;250m \u001b[39m\u001b[38;5;21mrun_100_times\u001b[39m(error_func: \u001b[38;5;28mcallable\u001b[39m) \u001b[38;5;241m-\u001b[39m\u001b[38;5;241m>\u001b[39m \u001b[38;5;28mfloat\u001b[39m:\n\u001b[1;32m---> 16\u001b[0m     \u001b[38;5;28;01mreturn\u001b[39;00m \u001b[38;5;28msum\u001b[39m([\u001b[43merror_func\u001b[49m\u001b[43m(\u001b[49m\u001b[43m)\u001b[49m \u001b[38;5;28;01mfor\u001b[39;00m _ \u001b[38;5;129;01min\u001b[39;00m \u001b[38;5;28mrange\u001b[39m(\u001b[38;5;241m100\u001b[39m)]) \u001b[38;5;241m/\u001b[39m \u001b[38;5;241m100\u001b[39m\n",
      "Cell \u001b[1;32mIn[192], line 5\u001b[0m, in \u001b[0;36m<lambda>\u001b[1;34m()\u001b[0m\n\u001b[0;32m      2\u001b[0m errors \u001b[38;5;241m=\u001b[39m []\n\u001b[0;32m      3\u001b[0m \u001b[38;5;28;01mfor\u001b[39;00m delta_ \u001b[38;5;129;01min\u001b[39;00m deltas:\n\u001b[0;32m      4\u001b[0m     errors\u001b[38;5;241m.\u001b[39mappend(\n\u001b[1;32m----> 5\u001b[0m         run_100_times(\u001b[38;5;28;01mlambda\u001b[39;00m: \u001b[43mrun_delta_viterbi\u001b[49m\u001b[43m(\u001b[49m\u001b[43mdelta_\u001b[49m\u001b[43m)\u001b[49m)\n\u001b[0;32m      6\u001b[0m     )\n",
      "Cell \u001b[1;32mIn[181], line 14\u001b[0m, in \u001b[0;36mrun_delta_viterbi\u001b[1;34m(delta)\u001b[0m\n\u001b[0;32m      8\u001b[0m semi_delta_gen_res \u001b[38;5;241m=\u001b[39m semi_hmm_delta_gen\u001b[38;5;241m.\u001b[39mgen_semi_hmm(T)\n\u001b[0;32m     10\u001b[0m semi_delta_vet \u001b[38;5;241m=\u001b[39m SemiViterbi(\n\u001b[0;32m     11\u001b[0m     n, D, semi_delta_gen_res, mus, delta_duration_law,\n\u001b[0;32m     12\u001b[0m     discrete_obs_law\u001b[38;5;241m.\u001b[39mb_Sj_Ot_list, sem_trans_mat\n\u001b[0;32m     13\u001b[0m )\n\u001b[1;32m---> 14\u001b[0m \u001b[43msemi_delta_vet\u001b[49m\u001b[38;5;241;43m.\u001b[39;49m\u001b[43mrun_viterbi\u001b[49m\u001b[43m(\u001b[49m\u001b[43m)\u001b[49m\n\u001b[0;32m     16\u001b[0m \u001b[38;5;28;01mreturn\u001b[39;00m get_discrete_law_error(\n\u001b[0;32m     17\u001b[0m     semi_delta_vet\u001b[38;5;241m.\u001b[39mdurations_only,\n\u001b[0;32m     18\u001b[0m     semi_delta_gen_res\u001b[38;5;241m.\u001b[39mduration_only,\n\u001b[0;32m     19\u001b[0m )\n",
      "File \u001b[1;32mc:\\Users\\bensi\\pyIMT\\HMM Project\\hmmadn\\hmmadn\\semihmm\\semiviterbi.py:36\u001b[0m, in \u001b[0;36mSemiViterbi.run_viterbi\u001b[1;34m(self)\u001b[0m\n\u001b[0;32m     35\u001b[0m \u001b[38;5;28;01mdef\u001b[39;00m\u001b[38;5;250m \u001b[39m\u001b[38;5;21mrun_viterbi\u001b[39m(\u001b[38;5;28mself\u001b[39m) \u001b[38;5;241m-\u001b[39m\u001b[38;5;241m>\u001b[39m \u001b[38;5;28;01mNone\u001b[39;00m:\n\u001b[1;32m---> 36\u001b[0m     \u001b[38;5;28;43mself\u001b[39;49m\u001b[38;5;241;43m.\u001b[39;49m\u001b[43mset_deltas_and_phis\u001b[49m\u001b[43m(\u001b[49m\u001b[43m)\u001b[49m\n\u001b[0;32m     37\u001b[0m     \u001b[38;5;28mself\u001b[39m\u001b[38;5;241m.\u001b[39mset_optimal_sequence()\n",
      "File \u001b[1;32mc:\\Users\\bensi\\pyIMT\\HMM Project\\hmmadn\\hmmadn\\semihmm\\semiviterbi.py:56\u001b[0m, in \u001b[0;36mSemiViterbi.set_deltas_and_phis\u001b[1;34m(self)\u001b[0m\n\u001b[0;32m     53\u001b[0m \u001b[38;5;28;01melse\u001b[39;00m:\n\u001b[0;32m     54\u001b[0m     \u001b[38;5;28mself\u001b[39m\u001b[38;5;241m.\u001b[39mdeltas\u001b[38;5;241m.\u001b[39mappend(\u001b[38;5;28mself\u001b[39m\u001b[38;5;241m.\u001b[39mget_delta(t))\n\u001b[0;32m     55\u001b[0m     \u001b[38;5;28mself\u001b[39m\u001b[38;5;241m.\u001b[39mphis\u001b[38;5;241m.\u001b[39mappend(\n\u001b[1;32m---> 56\u001b[0m         array(\u001b[43m[\u001b[49m\n\u001b[0;32m     57\u001b[0m \u001b[43m            \u001b[49m\u001b[43m[\u001b[49m\u001b[38;5;28;43mself\u001b[39;49m\u001b[38;5;241;43m.\u001b[39;49m\u001b[43m_get_phi_tj\u001b[49m\u001b[43m(\u001b[49m\u001b[43mt\u001b[49m\u001b[43m,\u001b[49m\u001b[43m \u001b[49m\u001b[43mj\u001b[49m\u001b[43m,\u001b[49m\u001b[43m \u001b[49m\u001b[43md\u001b[49m\u001b[43m)\u001b[49m\u001b[43m \u001b[49m\u001b[38;5;28;43;01mfor\u001b[39;49;00m\u001b[43m \u001b[49m\u001b[43mj\u001b[49m\u001b[43m \u001b[49m\u001b[38;5;129;43;01min\u001b[39;49;00m\u001b[43m \u001b[49m\u001b[38;5;28;43mrange\u001b[39;49m\u001b[43m(\u001b[49m\u001b[38;5;28;43mself\u001b[39;49m\u001b[38;5;241;43m.\u001b[39;49m\u001b[43mn\u001b[49m\u001b[43m)\u001b[49m\u001b[43m]\u001b[49m\n\u001b[0;32m     58\u001b[0m \u001b[43m            \u001b[49m\u001b[38;5;28;43;01mfor\u001b[39;49;00m\u001b[43m \u001b[49m\u001b[43md\u001b[49m\u001b[43m \u001b[49m\u001b[38;5;129;43;01min\u001b[39;49;00m\u001b[43m \u001b[49m\u001b[38;5;28;43mrange\u001b[39;49m\u001b[43m(\u001b[49m\u001b[38;5;241;43m1\u001b[39;49m\u001b[43m,\u001b[49m\u001b[43m \u001b[49m\u001b[38;5;28;43mself\u001b[39;49m\u001b[38;5;241;43m.\u001b[39;49m\u001b[43m_max_d\u001b[49m\u001b[38;5;241;43m+\u001b[39;49m\u001b[38;5;241;43m1\u001b[39;49m\u001b[43m)\u001b[49m\u001b[43m \u001b[49m\n\u001b[0;32m     59\u001b[0m \u001b[43m        \u001b[49m\u001b[43m]\u001b[49m)  \n\u001b[0;32m     60\u001b[0m     )\n",
      "File \u001b[1;32mc:\\Users\\bensi\\pyIMT\\HMM Project\\hmmadn\\hmmadn\\semihmm\\semiviterbi.py:57\u001b[0m, in \u001b[0;36m<listcomp>\u001b[1;34m(.0)\u001b[0m\n\u001b[0;32m     53\u001b[0m \u001b[38;5;28;01melse\u001b[39;00m:\n\u001b[0;32m     54\u001b[0m     \u001b[38;5;28mself\u001b[39m\u001b[38;5;241m.\u001b[39mdeltas\u001b[38;5;241m.\u001b[39mappend(\u001b[38;5;28mself\u001b[39m\u001b[38;5;241m.\u001b[39mget_delta(t))\n\u001b[0;32m     55\u001b[0m     \u001b[38;5;28mself\u001b[39m\u001b[38;5;241m.\u001b[39mphis\u001b[38;5;241m.\u001b[39mappend(\n\u001b[0;32m     56\u001b[0m         array([\n\u001b[1;32m---> 57\u001b[0m             \u001b[43m[\u001b[49m\u001b[38;5;28;43mself\u001b[39;49m\u001b[38;5;241;43m.\u001b[39;49m\u001b[43m_get_phi_tj\u001b[49m\u001b[43m(\u001b[49m\u001b[43mt\u001b[49m\u001b[43m,\u001b[49m\u001b[43m \u001b[49m\u001b[43mj\u001b[49m\u001b[43m,\u001b[49m\u001b[43m \u001b[49m\u001b[43md\u001b[49m\u001b[43m)\u001b[49m\u001b[43m \u001b[49m\u001b[38;5;28;43;01mfor\u001b[39;49;00m\u001b[43m \u001b[49m\u001b[43mj\u001b[49m\u001b[43m \u001b[49m\u001b[38;5;129;43;01min\u001b[39;49;00m\u001b[43m \u001b[49m\u001b[38;5;28;43mrange\u001b[39;49m\u001b[43m(\u001b[49m\u001b[38;5;28;43mself\u001b[39;49m\u001b[38;5;241;43m.\u001b[39;49m\u001b[43mn\u001b[49m\u001b[43m)\u001b[49m\u001b[43m]\u001b[49m\n\u001b[0;32m     58\u001b[0m             \u001b[38;5;28;01mfor\u001b[39;00m d \u001b[38;5;129;01min\u001b[39;00m \u001b[38;5;28mrange\u001b[39m(\u001b[38;5;241m1\u001b[39m, \u001b[38;5;28mself\u001b[39m\u001b[38;5;241m.\u001b[39m_max_d\u001b[38;5;241m+\u001b[39m\u001b[38;5;241m1\u001b[39m) \n\u001b[0;32m     59\u001b[0m         ])  \n\u001b[0;32m     60\u001b[0m     )\n",
      "File \u001b[1;32mc:\\Users\\bensi\\pyIMT\\HMM Project\\hmmadn\\hmmadn\\semihmm\\semiviterbi.py:57\u001b[0m, in \u001b[0;36m<listcomp>\u001b[1;34m(.0)\u001b[0m\n\u001b[0;32m     53\u001b[0m \u001b[38;5;28;01melse\u001b[39;00m:\n\u001b[0;32m     54\u001b[0m     \u001b[38;5;28mself\u001b[39m\u001b[38;5;241m.\u001b[39mdeltas\u001b[38;5;241m.\u001b[39mappend(\u001b[38;5;28mself\u001b[39m\u001b[38;5;241m.\u001b[39mget_delta(t))\n\u001b[0;32m     55\u001b[0m     \u001b[38;5;28mself\u001b[39m\u001b[38;5;241m.\u001b[39mphis\u001b[38;5;241m.\u001b[39mappend(\n\u001b[0;32m     56\u001b[0m         array([\n\u001b[1;32m---> 57\u001b[0m             [\u001b[38;5;28;43mself\u001b[39;49m\u001b[38;5;241;43m.\u001b[39;49m\u001b[43m_get_phi_tj\u001b[49m\u001b[43m(\u001b[49m\u001b[43mt\u001b[49m\u001b[43m,\u001b[49m\u001b[43m \u001b[49m\u001b[43mj\u001b[49m\u001b[43m,\u001b[49m\u001b[43m \u001b[49m\u001b[43md\u001b[49m\u001b[43m)\u001b[49m \u001b[38;5;28;01mfor\u001b[39;00m j \u001b[38;5;129;01min\u001b[39;00m \u001b[38;5;28mrange\u001b[39m(\u001b[38;5;28mself\u001b[39m\u001b[38;5;241m.\u001b[39mn)]\n\u001b[0;32m     58\u001b[0m             \u001b[38;5;28;01mfor\u001b[39;00m d \u001b[38;5;129;01min\u001b[39;00m \u001b[38;5;28mrange\u001b[39m(\u001b[38;5;241m1\u001b[39m, \u001b[38;5;28mself\u001b[39m\u001b[38;5;241m.\u001b[39m_max_d\u001b[38;5;241m+\u001b[39m\u001b[38;5;241m1\u001b[39m) \n\u001b[0;32m     59\u001b[0m         ])  \n\u001b[0;32m     60\u001b[0m     )\n",
      "File \u001b[1;32mc:\\Users\\bensi\\pyIMT\\HMM Project\\hmmadn\\hmmadn\\semihmm\\semiviterbi.py:170\u001b[0m, in \u001b[0;36mSemiViterbi._get_phi_tj\u001b[1;34m(self, t, j, d)\u001b[0m\n\u001b[0;32m    163\u001b[0m pd \u001b[38;5;241m=\u001b[39m \u001b[38;5;28mself\u001b[39m\u001b[38;5;241m.\u001b[39mpd(d)\n\u001b[0;32m    164\u001b[0m \u001b[38;5;28;01mif\u001b[39;00m (\n\u001b[0;32m    165\u001b[0m     \u001b[38;5;28mself\u001b[39m\u001b[38;5;241m.\u001b[39mtrans_mat[i][j] \u001b[38;5;241m==\u001b[39m \u001b[38;5;241m0\u001b[39m\n\u001b[0;32m    166\u001b[0m     \u001b[38;5;129;01mor\u001b[39;00m t \u001b[38;5;241m<\u001b[39m d\n\u001b[0;32m    167\u001b[0m     \u001b[38;5;129;01mor\u001b[39;00m bsjot \u001b[38;5;241m==\u001b[39m \u001b[38;5;241m0\u001b[39m\n\u001b[0;32m    168\u001b[0m     \u001b[38;5;129;01mor\u001b[39;00m pd \u001b[38;5;241m==\u001b[39m \u001b[38;5;241m0.0\u001b[39m\n\u001b[0;32m    169\u001b[0m ):\n\u001b[1;32m--> 170\u001b[0m     temp \u001b[38;5;241m=\u001b[39m \u001b[38;5;241m-\u001b[39m\u001b[38;5;28mfloat\u001b[39m(\u001b[38;5;124m'\u001b[39m\u001b[38;5;124minf\u001b[39m\u001b[38;5;124m'\u001b[39m)\n\u001b[0;32m    171\u001b[0m \u001b[38;5;28;01melse\u001b[39;00m:\n\u001b[0;32m    172\u001b[0m     temp \u001b[38;5;241m=\u001b[39m (\n\u001b[0;32m    173\u001b[0m         log(\u001b[38;5;28mself\u001b[39m\u001b[38;5;241m.\u001b[39mtrans_mat[i][j])\n\u001b[0;32m    174\u001b[0m         \u001b[38;5;241m+\u001b[39m log(pd)\n\u001b[0;32m    175\u001b[0m         \u001b[38;5;241m+\u001b[39m \u001b[38;5;28mself\u001b[39m\u001b[38;5;241m.\u001b[39mdeltas[t\u001b[38;5;241m-\u001b[39md][d_][i]\n\u001b[0;32m    176\u001b[0m         \u001b[38;5;241m+\u001b[39m log(bsjot)\n\u001b[0;32m    177\u001b[0m     )\n",
      "\u001b[1;31mKeyboardInterrupt\u001b[0m: "
     ]
    }
   ],
   "source": [
    "deltas = range(2, 20)\n",
    "errors = []\n",
    "for delta_ in deltas:\n",
    "    errors.append(\n",
    "        run_100_times(lambda: run_delta_viterbi(delta_))\n",
    "    )"
   ]
  },
  {
   "cell_type": "code",
   "execution_count": 194,
   "metadata": {},
   "outputs": [
    {
     "data": {
      "text/plain": [
       "[np.float64(0.1928248354308921),\n",
       " np.float64(0.07721327561327558),\n",
       " np.float64(0.04158163265306124),\n",
       " np.float64(0.01478468357039786),\n",
       " np.float64(0.017550401978973413),\n",
       " np.float64(0.0041),\n",
       " np.float64(0.0052000000000000015),\n",
       " np.float64(0.0014000000000000002),\n",
       " np.float64(0.001)]"
      ]
     },
     "execution_count": 194,
     "metadata": {},
     "output_type": "execute_result"
    }
   ],
   "source": [
    "errors"
   ]
  },
  {
   "cell_type": "code",
   "execution_count": null,
   "metadata": {},
   "outputs": [],
   "source": []
  },
  {
   "cell_type": "code",
   "execution_count": null,
   "metadata": {},
   "outputs": [],
   "source": []
  },
  {
   "cell_type": "code",
   "execution_count": null,
   "metadata": {},
   "outputs": [],
   "source": []
  }
 ],
 "metadata": {
  "kernelspec": {
   "display_name": ".venv",
   "language": "python",
   "name": "python3"
  },
  "language_info": {
   "codemirror_mode": {
    "name": "ipython",
    "version": 3
   },
   "file_extension": ".py",
   "mimetype": "text/x-python",
   "name": "python",
   "nbconvert_exporter": "python",
   "pygments_lexer": "ipython3",
   "version": "3.11.4"
  }
 },
 "nbformat": 4,
 "nbformat_minor": 2
}
